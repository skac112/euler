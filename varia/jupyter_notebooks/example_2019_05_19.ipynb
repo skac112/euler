{
 "cells": [
  {
   "cell_type": "code",
   "execution_count": 1,
   "metadata": {},
   "outputs": [
    {
     "name": "stderr",
     "output_type": "stream",
     "text": [
      "Downloading https://repo1.maven.org/maven2/org/scala-lang/scala-library/2.12.6/scala-library-2.12.6-sources.jar\n",
      "Downloading https://repo1.maven.org/maven2/org/scala-lang/scala-library/2.12.6/scala-library-2.12.6-sources.jar.sha1\n",
      "Downloaded https://repo1.maven.org/maven2/org/scala-lang/scala-library/2.12.6/scala-library-2.12.6-sources.jar.sha1\n",
      "https://repo1.maven.org/maven2/org/scala-lang/scala-library/2.… (16.46 %, 16329…\n",
      "\n",
      "Downloaded https://repo1.maven.org/maven2/org/scala-lang/scala-library/2.12.6/scala-library-2.12.6-sources.jar\n"
     ]
    }
   ],
   "source": [
    "interp.load.ivy(\"skac\" %% \"euler\" % \"0.7.0-SNAPSHOT\")"
   ]
  },
  {
   "cell_type": "code",
   "execution_count": 3,
   "metadata": {},
   "outputs": [
    {
     "name": "stdout",
     "output_type": "stream",
     "text": [
      "skac.euler.impl.fastindex.immutable.Graph@bda4\n"
     ]
    },
    {
     "data": {
      "text/plain": [
       "\u001b[32mimport \u001b[39m\u001b[36mskac.euler.General._\n",
       "\u001b[39m\n",
       "\u001b[36mg\u001b[39m: \u001b[32mskac\u001b[39m.\u001b[32meuler\u001b[39m.\u001b[32mimpl\u001b[39m.\u001b[32mfastindex\u001b[39m.\u001b[32mimmutable\u001b[39m.\u001b[32mGraph\u001b[39m[\u001b[32mInt\u001b[39m, \u001b[32mString\u001b[39m] = skac.euler.impl.fastindex.immutable.Graph@0\n",
       "\u001b[36mg2\u001b[39m: \u001b[32mskac\u001b[39m.\u001b[32meuler\u001b[39m.\u001b[32mGraph\u001b[39m[\u001b[32mInt\u001b[39m, \u001b[32mString\u001b[39m] = skac.euler.impl.fastindex.immutable.Graph@bda4"
      ]
     },
     "execution_count": 3,
     "metadata": {},
     "output_type": "execute_result"
    }
   ],
   "source": [
    "import skac.euler.General._\n",
    "val g = new skac.euler.impl.fastindex.immutable.Graph[Int, String]\n",
    "val g2 = g + 1 + 2 + 3 +-> (\"1-2\", 1.da, 2.da)\n",
    "println(g2)"
   ]
  },
  {
   "cell_type": "code",
   "execution_count": null,
   "metadata": {},
   "outputs": [],
   "source": []
  }
 ],
 "metadata": {
  "kernelspec": {
   "display_name": "Scala",
   "language": "scala",
   "name": "scala"
  },
  "language_info": {
   "codemirror_mode": "text/x-scala",
   "file_extension": ".scala",
   "mimetype": "text/x-scala",
   "name": "scala",
   "nbconvert_exporter": "script",
   "version": "2.12.8"
  }
 },
 "nbformat": 4,
 "nbformat_minor": 2
}
